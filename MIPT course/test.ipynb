{
 "cells": [
  {
   "cell_type": "code",
   "id": "initial_id",
   "metadata": {
    "ExecuteTime": {
     "end_time": "2025-04-03T10:13:32.760969Z",
     "start_time": "2025-04-03T10:13:32.733786Z"
    }
   },
   "source": [
    "import torch\n",
    "import cv2\n",
    "import os\n",
    "\n",
    "print(os.path.abspath(\"sample_photo.jpeg\"))\n",
    "\n",
    "img = cv2.imread(\"sample_photo.jpeg\")\n",
    "RGB_img = cv2.cvtColor(img, cv2.COLOR_BGR2RGB)\n",
    "img_t = torch.from_numpy(RGB_img).type(torch.float32).unsqueeze(0)\n",
    "img_t"
   ],
   "outputs": [
    {
     "name": "stdout",
     "output_type": "stream",
     "text": [
      "E:\\Code\\ML\\MIPT course\\sample_photo.jpeg\n"
     ]
    },
    {
     "data": {
      "text/plain": [
       "tensor([[[[222., 225., 240.],\n",
       "          [222., 225., 240.],\n",
       "          [221., 224., 239.],\n",
       "          ...,\n",
       "          [161., 176., 199.],\n",
       "          [161., 176., 199.],\n",
       "          [161., 176., 199.]],\n",
       "\n",
       "         [[222., 225., 240.],\n",
       "          [222., 225., 240.],\n",
       "          [221., 224., 239.],\n",
       "          ...,\n",
       "          [161., 176., 199.],\n",
       "          [161., 176., 199.],\n",
       "          [161., 176., 199.]],\n",
       "\n",
       "         [[222., 225., 240.],\n",
       "          [222., 225., 240.],\n",
       "          [222., 225., 240.],\n",
       "          ...,\n",
       "          [160., 175., 198.],\n",
       "          [160., 175., 198.],\n",
       "          [160., 175., 198.]],\n",
       "\n",
       "         ...,\n",
       "\n",
       "         [[ 70., 108.,   0.],\n",
       "          [ 71., 109.,   0.],\n",
       "          [ 72., 110.,   0.],\n",
       "          ...,\n",
       "          [  0.,  16.,   0.],\n",
       "          [  0.,  14.,   0.],\n",
       "          [  1.,  15.,   0.]],\n",
       "\n",
       "         [[ 69., 106.,   0.],\n",
       "          [ 70., 107.,   1.],\n",
       "          [ 71., 109.,   0.],\n",
       "          ...,\n",
       "          [  0.,  17.,   1.],\n",
       "          [  0.,  16.,   0.],\n",
       "          [  1.,  15.,   0.]],\n",
       "\n",
       "         [[ 68., 105.,   0.],\n",
       "          [ 69., 106.,   0.],\n",
       "          [ 70., 107.,   1.],\n",
       "          ...,\n",
       "          [  0.,  19.,   0.],\n",
       "          [  0.,  17.,   1.],\n",
       "          [  0.,  16.,   0.]]]])"
      ]
     },
     "execution_count": 6,
     "metadata": {},
     "output_type": "execute_result"
    }
   ],
   "execution_count": 6
  },
  {
   "cell_type": "code",
   "execution_count": null,
   "id": "ca32f4761abeb5a4",
   "metadata": {
    "ExecuteTime": {
     "end_time": "2025-03-25T08:48:01.966328400Z",
     "start_time": "2025-03-25T08:47:43.153219Z"
    }
   },
   "outputs": [
    {
     "data": {
      "text/plain": [
       "<matplotlib.image.AxesImage at 0x16a8b129b80>"
      ]
     },
     "execution_count": 2,
     "metadata": {},
     "output_type": "execute_result"
    }
   ],
   "source": ""
  }
 ],
 "metadata": {
  "kernelspec": {
   "display_name": "Python 3 (ipykernel)",
   "language": "python",
   "name": "python3"
  },
  "language_info": {
   "codemirror_mode": {
    "name": "ipython",
    "version": 3
   },
   "file_extension": ".py",
   "mimetype": "text/x-python",
   "name": "python",
   "nbconvert_exporter": "python",
   "pygments_lexer": "ipython3",
   "version": "3.12.7"
  }
 },
 "nbformat": 4,
 "nbformat_minor": 5
}
