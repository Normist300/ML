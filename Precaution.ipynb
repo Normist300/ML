{
 "cells": [
  {
   "metadata": {},
   "cell_type": "markdown",
   "source": [
    "\n",
    "# plt и torch\n",
    "Сначала нужно объявить и выполнить imshow, затем torch. Иначе ядро юпитера будет крашиться при вызове imshow()."
   ],
   "id": "c2b548bbc6017e50"
  },
  {
   "metadata": {
    "ExecuteTime": {
     "end_time": "2025-03-25T08:58:32.105551Z",
     "start_time": "2025-03-25T08:58:31.227084Z"
    }
   },
   "cell_type": "code",
   "source": [
    "import matplotlib.pyplot as plt\n",
    "import numpy as np\n",
    "\n",
    "data = np.random.rand(5, 5)  # Должен быть 2D или 3D массив\n",
    "plt.imshow(data)"
   ],
   "id": "e134af91045feede",
   "outputs": [
    {
     "data": {
      "text/plain": [
       "<matplotlib.image.AxesImage at 0x1eebd22e150>"
      ]
     },
     "execution_count": 1,
     "metadata": {},
     "output_type": "execute_result"
    },
    {
     "data": {
      "text/plain": [
       "<Figure size 640x480 with 1 Axes>"
      ],
      "image/png": "[encoded data removed]"
     },
     "metadata": {},
     "output_type": "display_data"
    }
   ],
   "execution_count": 1
  },
  {
   "metadata": {
    "ExecuteTime": {
     "end_time": "2025-03-25T08:58:52.520091Z",
     "start_time": "2025-03-25T08:58:49.869392Z"
    }
   },
   "cell_type": "code",
   "source": [
    "import torch\n",
    "import torchvision\n",
    "from torchvision import transforms\n",
    "from torchsummary import summary\n",
    "\n",
    "\n",
    "import matplotlib\n",
    "\n",
    "# Проверяем, доступны ли GPU\n",
    "device = 'cuda' if torch.cuda.is_available() else 'cpu'\n",
    "device"
   ],
   "id": "6c998ce046fedb1d",
   "outputs": [
    {
     "data": {
      "text/plain": [
       "'cuda'"
      ]
     },
     "execution_count": 2,
     "metadata": {},
     "output_type": "execute_result"
    }
   ],
   "execution_count": 2
  },
  {
   "metadata": {},
   "cell_type": "markdown",
   "source": "# %matplotlib inline конфликтует с imshow (imshow не работает)",
   "id": "38bd69265ed295a7"
  },
  {
   "metadata": {
    "ExecuteTime": {
     "end_time": "2025-04-18T08:57:21.334724Z",
     "start_time": "2025-04-18T08:57:21.331329Z"
    }
   },
   "cell_type": "code",
   "source": [
    "from matplotlib import colors, pyplot as plt\n",
    "%matplotlib inline"
   ],
   "id": "94f438f22b28f43e",
   "outputs": [],
   "execution_count": 2
  },
  {
   "metadata": {
    "ExecuteTime": {
     "end_time": "2025-04-18T08:57:22.515255Z",
     "start_time": "2025-04-18T08:57:22.483090Z"
    }
   },
   "cell_type": "code",
   "source": [
    "import matplotlib.pyplot as plt\n",
    "import numpy as np\n",
    "\n",
    "data = np.random.rand(5, 5)  # Должен быть 2D или 3D массив\n",
    "plt.imshow(data)"
   ],
   "id": "e833d3d2ecc4057b",
   "outputs": [
    {
     "data": {
      "text/plain": [
       "<matplotlib.image.AxesImage at 0x1b29293d4c0>"
      ]
     },
     "execution_count": 3,
     "metadata": {},
     "output_type": "execute_result"
    }
   ],
   "execution_count": 3
  }
 ],
 "metadata": {
  "kernelspec": {
   "display_name": "Python 3",
   "language": "python",
   "name": "python3"
  },
  "language_info": {
   "codemirror_mode": {
    "name": "ipython",
    "version": 2
   },
   "file_extension": ".py",
   "mimetype": "text/x-python",
   "name": "python",
   "nbconvert_exporter": "python",
   "pygments_lexer": "ipython2",
   "version": "2.7.6"
  }
 },
 "nbformat": 4,
 "nbformat_minor": 5
}
